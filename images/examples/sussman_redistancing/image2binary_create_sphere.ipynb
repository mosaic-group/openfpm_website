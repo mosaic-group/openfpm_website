{
 "cells": [
  {
   "cell_type": "code",
   "execution_count": 1,
   "metadata": {},
   "outputs": [],
   "source": [
    "from tifffile import imread, imsave\n",
    "import numpy as np\n",
    "import os\n",
    "import matplotlib.pyplot as plt\n",
    "import cv2\n",
    "import sys\n",
    "sys.path.append(\"./lib\")\n",
    "import morphological_operations as mo\n",
    "import image_process_and_save as ips"
   ]
  },
  {
   "cell_type": "code",
   "execution_count": 2,
   "metadata": {},
   "outputs": [],
   "source": [
    "import numpy as np\n",
    "from copy import deepcopy\n",
    "\n",
    "''' size : size of original 3D numpy matrix A.\n",
    "    radius : radius of circle inside A which will be filled with ones. \n",
    "'''\n",
    "size, radius = 64, 5\n",
    "\n",
    "''' A : numpy.ndarray of shape size*size*size. '''\n",
    "A = np.zeros((size,size, size)) \n",
    "\n",
    "''' AA : copy of A (you don't want the original copy of A to be overwritten.) '''\n",
    "AA = deepcopy(A) \n",
    "\n",
    "''' (x0, y0, z0) : coordinates of center of circle inside A. '''\n",
    "x0, y0, z0 = int(np.floor(A.shape[0]/2)), \\\n",
    "        int(np.floor(A.shape[1]/2)), int(np.floor(A.shape[2]/2))\n",
    "\n",
    "\n",
    "for x in range(AA.shape[0]):\n",
    "    for y in range(AA.shape[1]):\n",
    "        for z in range(AA.shape[2]):   \n",
    "            d = radius*radius*radius - (x0-x)**2 - (y0-y)**2 - (z0-z)**2 \n",
    "            if d <= 0: AA[x,y,z] = -1\n",
    "            elif d >= 0: AA[x,y,z] = 1"
   ]
  },
  {
   "cell_type": "code",
   "execution_count": 3,
   "metadata": {},
   "outputs": [
    {
     "data": {
      "text/plain": [
       "(64, 64, 64)"
      ]
     },
     "execution_count": 3,
     "metadata": {},
     "output_type": "execute_result"
    }
   ],
   "source": [
    "AA.shape"
   ]
  },
  {
   "cell_type": "code",
   "execution_count": 4,
   "metadata": {},
   "outputs": [
    {
     "data": {
      "image/png": "[encoded data removed]",
      "text/plain": [
       "<Figure size 504x504 with 1 Axes>"
      ]
     },
     "metadata": {},
     "output_type": "display_data"
    }
   ],
   "source": [
    "fig, ax = plt.subplots(figsize=(7, 7))\n",
    "ax.imshow(AA[int(AA.shape[0]/2)], cmap='gray')\n",
    "None"
   ]
  },
  {
   "cell_type": "code",
   "execution_count": 5,
   "metadata": {},
   "outputs": [],
   "source": [
    "# flatten stack to get a 1D array\n",
    "x_bin = AA.flatten();"
   ]
  },
  {
   "cell_type": "code",
   "execution_count": 6,
   "metadata": {},
   "outputs": [
    {
     "data": {
      "text/plain": [
       "(262144,)"
      ]
     },
     "execution_count": 6,
     "metadata": {},
     "output_type": "execute_result"
    }
   ],
   "source": [
    "x_bin.shape"
   ]
  },
  {
   "cell_type": "code",
   "execution_count": 7,
   "metadata": {},
   "outputs": [],
   "source": [
    "# save flat image stack as binary file\n",
    "path = '/Users/jstark/Desktop/image_examples/'\n",
    "filename = 'sphere'\n",
    "ips.save_array_toBin(x_bin, path, filename)\n",
    "\n",
    "# Save image size in #pixels / axis as csv file\n",
    "dim = np.asarray(AA.shape)\n",
    "np.savetxt('%s/size_%s.csv' % (path, filename), dim, fmt='%i', delimiter=',')"
   ]
  },
  {
   "cell_type": "code",
   "execution_count": null,
   "metadata": {},
   "outputs": [],
   "source": []
  }
 ],
 "metadata": {
  "kernelspec": {
   "display_name": "Python 3",
   "language": "python",
   "name": "python3"
  },
  "language_info": {
   "codemirror_mode": {
    "name": "ipython",
    "version": 3
   },
   "file_extension": ".py",
   "mimetype": "text/x-python",
   "name": "python",
   "nbconvert_exporter": "python",
   "pygments_lexer": "ipython3",
   "version": "3.6.5"
  }
 },
 "nbformat": 4,
 "nbformat_minor": 2
}
